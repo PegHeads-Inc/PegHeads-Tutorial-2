{
 "cells": [
  {
   "cell_type": "code",
   "execution_count": 11,
   "id": "2ca57e92",
   "metadata": {},
   "outputs": [],
   "source": [
    "import pandas as pd\n",
    "import csv"
   ]
  },
  {
   "cell_type": "code",
   "execution_count": 12,
   "id": "7145635e",
   "metadata": {},
   "outputs": [
    {
     "data": {
      "text/html": [
       "<div>\n",
       "<style scoped>\n",
       "    .dataframe tbody tr th:only-of-type {\n",
       "        vertical-align: middle;\n",
       "    }\n",
       "\n",
       "    .dataframe tbody tr th {\n",
       "        vertical-align: top;\n",
       "    }\n",
       "\n",
       "    .dataframe thead th {\n",
       "        text-align: right;\n",
       "    }\n",
       "</style>\n",
       "<table border=\"1\" class=\"dataframe\">\n",
       "  <thead>\n",
       "    <tr style=\"text-align: right;\">\n",
       "      <th></th>\n",
       "      <th>Who</th>\n",
       "      <th>What</th>\n",
       "      <th>When</th>\n",
       "      <th>Where</th>\n",
       "      <th>Why</th>\n",
       "      <th>Path</th>\n",
       "    </tr>\n",
       "  </thead>\n",
       "  <tbody>\n",
       "    <tr>\n",
       "      <th>0</th>\n",
       "      <td>FuryPeg</td>\n",
       "      <td>Trampoline stunts</td>\n",
       "      <td>Night</td>\n",
       "      <td>Trampoline park</td>\n",
       "      <td>automate 3D animation</td>\n",
       "      <td>Frontdoubleflip.mp4</td>\n",
       "    </tr>\n",
       "    <tr>\n",
       "      <th>1</th>\n",
       "      <td>FuryPeg</td>\n",
       "      <td>Bounce contest</td>\n",
       "      <td>Day</td>\n",
       "      <td>Trampoline park</td>\n",
       "      <td>automate 3D animation</td>\n",
       "      <td>Highbounce.mp4</td>\n",
       "    </tr>\n",
       "    <tr>\n",
       "      <th>2</th>\n",
       "      <td>FuryPeg</td>\n",
       "      <td>Jump styles</td>\n",
       "      <td>Night</td>\n",
       "      <td>Bounce place</td>\n",
       "      <td>automate 3D animation</td>\n",
       "      <td>Colorchanging.mp4</td>\n",
       "    </tr>\n",
       "    <tr>\n",
       "      <th>3</th>\n",
       "      <td>FuryPeg</td>\n",
       "      <td>Trampoline stunts</td>\n",
       "      <td>Day</td>\n",
       "      <td>Trampoline park</td>\n",
       "      <td>automate 3D animation</td>\n",
       "      <td>Backjump.mp4</td>\n",
       "    </tr>\n",
       "    <tr>\n",
       "      <th>4</th>\n",
       "      <td>FuryPeg</td>\n",
       "      <td>Bounce contest</td>\n",
       "      <td>Mid-Day</td>\n",
       "      <td>Trampoline park</td>\n",
       "      <td>automate 3D animation</td>\n",
       "      <td>Jumpingjack.mp4</td>\n",
       "    </tr>\n",
       "  </tbody>\n",
       "</table>\n",
       "</div>"
      ],
      "text/plain": [
       "       Who               What     When            Where  \\\n",
       "0  FuryPeg  Trampoline stunts    Night  Trampoline park   \n",
       "1  FuryPeg     Bounce contest      Day  Trampoline park   \n",
       "2  FuryPeg        Jump styles    Night     Bounce place   \n",
       "3  FuryPeg  Trampoline stunts      Day  Trampoline park   \n",
       "4  FuryPeg     Bounce contest  Mid-Day  Trampoline park   \n",
       "\n",
       "                     Why                 Path  \n",
       "0  automate 3D animation  Frontdoubleflip.mp4  \n",
       "1  automate 3D animation       Highbounce.mp4  \n",
       "2  automate 3D animation    Colorchanging.mp4  \n",
       "3  automate 3D animation         Backjump.mp4  \n",
       "4  automate 3D animation      Jumpingjack.mp4  "
      ]
     },
     "execution_count": 12,
     "metadata": {},
     "output_type": "execute_result"
    }
   ],
   "source": [
    "df = pd.read_csv('properties.csv')\n",
    "df.head()"
   ]
  },
  {
   "cell_type": "code",
   "execution_count": 13,
   "id": "2ef61ede",
   "metadata": {},
   "outputs": [],
   "source": [
    "def find_row(filename, col_number1,value1,c2,v2,c3,v3):\n",
    "    var = str(value1)\n",
    "    coln = col_number1\n",
    "    var1 = str(v2)\n",
    "    coln1 = c2\n",
    "    var2 = str(v3)\n",
    "    coln2 = c3\n",
    "    o = open(filename, 'r') \n",
    "    myData = csv.reader(o) \n",
    "    index = 0 \n",
    "    for index, row in enumerate(myData):\n",
    "        if row[col_number1] == var and row[coln1] == var1 and row[coln2] == var2:\n",
    "            return index"
   ]
  },
  {
   "cell_type": "code",
   "execution_count": 14,
   "id": "546b5fe0",
   "metadata": {},
   "outputs": [],
   "source": [
    "import ipywidgets as widgets\n",
    "from IPython.display import display\n",
    "from IPython.core.display import Video"
   ]
  },
  {
   "cell_type": "code",
   "execution_count": 23,
   "id": "c33a579b",
   "metadata": {},
   "outputs": [
    {
     "data": {
      "application/vnd.jupyter.widget-view+json": {
       "model_id": "9ab2200e457c43b496b642ef647dff9a",
       "version_major": 2,
       "version_minor": 0
      },
      "text/plain": [
       "Dropdown(description='Who:', options=('SELECT OPTIONS', 'FuryPeg'), value='SELECT OPTIONS')"
      ]
     },
     "metadata": {},
     "output_type": "display_data"
    },
    {
     "data": {
      "application/vnd.jupyter.widget-view+json": {
       "model_id": "8fc2f9e0cf6146b4b79c1c89b01c8ad8",
       "version_major": 2,
       "version_minor": 0
      },
      "text/plain": [
       "Dropdown(description='What:', options=('SELECT OPTIONS', 'Trampoline stunts', 'Bounce contest', 'Jump styles')…"
      ]
     },
     "metadata": {},
     "output_type": "display_data"
    },
    {
     "data": {
      "application/vnd.jupyter.widget-view+json": {
       "model_id": "855302a2e72643f5a01979a0d19a3a3c",
       "version_major": 2,
       "version_minor": 0
      },
      "text/plain": [
       "Dropdown(description='When:', options=('SELECT OPTIONS', 'Day', 'Night', 'Mid-Day'), value='SELECT OPTIONS')"
      ]
     },
     "metadata": {},
     "output_type": "display_data"
    },
    {
     "data": {
      "application/vnd.jupyter.widget-view+json": {
       "model_id": "e94f38f28e044e55bdd41ed220f89311",
       "version_major": 2,
       "version_minor": 0
      },
      "text/plain": [
       "Dropdown(description='Where:', options=('SELECT OPTIONS', 'Trampoline park', 'Bounce place'), value='SELECT OP…"
      ]
     },
     "metadata": {},
     "output_type": "display_data"
    },
    {
     "data": {
      "application/vnd.jupyter.widget-view+json": {
       "model_id": "aa7a0e685f7649f794b4f85cfb5b613c",
       "version_major": 2,
       "version_minor": 0
      },
      "text/plain": [
       "Dropdown(description='Why:', options=('SELECT OPTIONS', 'automate 3D animation'), value='SELECT OPTIONS')"
      ]
     },
     "metadata": {},
     "output_type": "display_data"
    },
    {
     "name": "stdout",
     "output_type": "stream",
     "text": [
      "Backjump.mp4\n",
      "Backjump.mp4\n",
      "Backjump.mp4\n",
      "Backjump.mp4\n"
     ]
    }
   ],
   "source": [
    "Who = widgets.Dropdown(\n",
    "  options=['SELECT OPTIONS', 'FuryPeg'],\n",
    "  description='Who:',\n",
    "  disabled=False,\n",
    ")\n",
    "\n",
    "What = widgets.Dropdown(\n",
    "  options=['SELECT OPTIONS', 'Trampoline stunts', 'Bounce contest', 'Jump styles'],\n",
    "  description = 'What:',\n",
    "  disabled = False,\n",
    ")\n",
    "\n",
    "When = widgets.Dropdown(\n",
    "  options=['SELECT OPTIONS', 'Day', 'Night', 'Mid-Day'],\n",
    "  description = 'When:',\n",
    "  disabled = False,\n",
    ")\n",
    "\n",
    "Where = widgets.Dropdown(\n",
    "  options=['SELECT OPTIONS', 'Trampoline park', 'Bounce place'],\n",
    "  description = 'Where:',\n",
    "  disabled = False,\n",
    ")\n",
    "\n",
    "Why = widgets.Dropdown(\n",
    "  options=['SELECT OPTIONS', 'automate 3D animation'],\n",
    "  description = 'Why:',\n",
    "  disabled = False,\n",
    ")\n",
    "\n",
    "a = ''\n",
    "b = ''\n",
    "c = ''\n",
    "d = ''\n",
    "e = ''\n",
    "clip1 = ''\n",
    "\n",
    "w1 = widgets.Dropdown(options = Who.options,description = 'Who:')\n",
    "w2 = widgets.Dropdown(options = What.options,description = 'What:')\n",
    "w3 = widgets.Dropdown(options = When.options,description = 'When:')\n",
    "w4 = widgets.Dropdown(options = Where.options,description = 'Where:')\n",
    "w5 = widgets.Dropdown(options = Why.options,description = 'Why:')\n",
    "\n",
    "def on_change(change):\n",
    "    global a, who, What, When, Where, Why, clip1\n",
    "    \n",
    "    if change['type'] == 'change' and change['name'] == 'value':\n",
    "        a = change['new']\n",
    "    \n",
    "    if change['new'] == 'FuryPeg':\n",
    "        who = change['new']\n",
    "\n",
    "    if change['new'] == 'Trampoline stunts':\n",
    "        What = change['new']\n",
    "        \n",
    "    if change['new'] == 'Bounce contest':\n",
    "        What = change['new']\n",
    "        \n",
    "    if change['new'] == 'Jump styles':\n",
    "        What = change['new']\n",
    "        \n",
    "    if change['new'] == 'Day':\n",
    "        When = change['new']\n",
    "\n",
    "    if change['new'] == 'Night':\n",
    "        When = change['new']\n",
    "\n",
    "    if change['new'] == 'Mid-Day':\n",
    "        When = change['new']\n",
    "        \n",
    "    if change['new'] == 'Trampoline park':\n",
    "        Where = change['new']\n",
    "\n",
    "    if change['new'] == 'Bounce place':\n",
    "        Where = change['new']\n",
    "    \n",
    "    if change['new'] == 'automate 3D animation':\n",
    "        Why = change['new']\n",
    " \n",
    "    if What == 'Trampoline stunts' and When == 'Night' and Where == 'Trampoline park':\n",
    "        x = find_row('properties.csv', 1, What, 2, When, 3, Where)\n",
    "        clip1 = (df['Path'][x-1])\n",
    "        print(clip1)\n",
    "        \n",
    "    elif What == 'Bounce contest' and When == 'Day' and Where == 'Trampoline park':\n",
    "        x = find_row('properties.csv', 1, What, 2, When, 3, Where)\n",
    "        clip1 = (df['Path'][x-1])\n",
    "        print(clip1)\n",
    "        \n",
    "    elif What == 'Jump styles' and When == 'Night' and Where == 'Bounce place':\n",
    "        x = find_row('properties.csv', 1, What, 2, When, 3, Where)\n",
    "        clip1 = (df['Path'][x-1])\n",
    "        print(clip1)\n",
    "        \n",
    "    elif What == 'Trampoline stunts' and When == 'Day' and Where == 'Trampoline park':\n",
    "        x = find_row('properties.csv', 1, What, 2, When, 3, Where)\n",
    "        clip1 = (df['Path'][x-1])\n",
    "        print(clip1)\n",
    "        \n",
    "    elif What == 'Bounce contest' and When == 'Mid-Day' and e == 'Trampoline park':\n",
    "        x = find_row('properties.csv', 1, What, 2, When, 3, Where)\n",
    "        clip1 = (df['Path'][x-1])\n",
    "        print(clip1)\n",
    "        \n",
    "    elif What == 'Jump styles' and When == 'Day' and e == 'Bounce place':\n",
    "        x = find_row('properties.csv', 1, What, 2, When, 3, Where)\n",
    "        clip1 = (df['Path'][x-1])\n",
    "        print(clip1)\n",
    "        \n",
    "    elif What == 'Bounce contest' and When == 'Night' and e == 'Trampoline park':\n",
    "        x = find_row('properties.csv', 1, What, 2, When, 3, Where)\n",
    "        clip1 = (df['Path'][x-1])\n",
    "        print(clip1)\n",
    "         \n",
    "w1.observe(on_change)\n",
    "w2.observe(on_change)\n",
    "w3.observe(on_change)       \n",
    "w4.observe(on_change)\n",
    "w5.observe(on_change)\n",
    "display(w1)\n",
    "display(w2)\n",
    "display(w3)\n",
    "display(w4)\n",
    "display(w5)"
   ]
  },
  {
   "cell_type": "code",
   "execution_count": 21,
   "id": "ba083f26",
   "metadata": {},
   "outputs": [
    {
     "data": {
      "text/html": [
       "<video src=\"Backjump.mp4\" controls  >\n",
       "      Your browser does not support the <code>video</code> element.\n",
       "    </video>"
      ],
      "text/plain": [
       "<IPython.core.display.Video object>"
      ]
     },
     "execution_count": 21,
     "metadata": {},
     "output_type": "execute_result"
    }
   ],
   "source": [
    "Video(clip1)"
   ]
  },
  {
   "cell_type": "code",
   "execution_count": null,
   "id": "726b58fd",
   "metadata": {},
   "outputs": [],
   "source": []
  }
 ],
 "metadata": {
  "kernelspec": {
   "display_name": "Python 3",
   "language": "python",
   "name": "python3"
  },
  "language_info": {
   "codemirror_mode": {
    "name": "ipython",
    "version": 3
   },
   "file_extension": ".py",
   "mimetype": "text/x-python",
   "name": "python",
   "nbconvert_exporter": "python",
   "pygments_lexer": "ipython3",
   "version": "3.8.8"
  }
 },
 "nbformat": 4,
 "nbformat_minor": 5
}
